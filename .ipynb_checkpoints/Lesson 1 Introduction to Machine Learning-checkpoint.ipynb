{
 "cells": [
  {
   "cell_type": "markdown",
   "metadata": {},
   "source": [
    "# Introduction to Machine Learning"
   ]
  },
  {
   "cell_type": "markdown",
   "metadata": {},
   "source": [
    "The field of computer programming is traditionally _rules-based_, meaning you write a bunch of if-else statements. This works fine for simple problems, or well-established problems. For example, you could write a program to control the temperature in a room. You set a threshold. Below that threshold, you turn off the cooling system. Above that threshold, you turn it back on.\n",
    "\n",
    "This works fine, until you realize that the threshold is an assumption. What if people need the threshold to be more or less than it is? Simple, they adjust it. And they keep adjusting it.\n",
    "\n",
    "What if we could make a smarter system? What if we could observe how people make adjustments, and learn when to move the threshold to cater to their needs? That is what Machine Learning is about.\n",
    "\n",
    "**Machine Learning** is that field of computing that teaches computers to learn from data. The data is gathered over time, and after cleaning, the data is fed into one or more algorithms, and the final output is called a model.\n",
    "\n",
    "Machine Learning itself is a sub-field of _Data Science_. **Data Science** is an interdisciplinary field about processes and systems that enable the extraction of knowledge or insights from data. Data Science concerns itself with the scientific process when it comes to dealing with data. This involves making an observation, formulating a hypothesis, and making inferences. It is this inference phase that is Machine Learning.\n",
    "\n",
    "The most commonly used methodology for Data Science is Cross-Industry Standard Process for Data Mining, abbreviated to CRISP-DM."
   ]
  },
  {
   "cell_type": "markdown",
   "metadata": {},
   "source": [
    "![CRISP-DM](assets/crisp-dm-framework.jpeg)"
   ]
  },
  {
   "cell_type": "markdown",
   "metadata": {},
   "source": [
    "The image above shows the entire process cycle. While Machine Learning falls into the sector of **Analysis/Modeling**, it can't succeed independent of the other phases. It is important to note that this process is not linear, and there is usually a lot of movement between the different phases. A brief explanation of the phases follows.\n",
    "\n",
    "* Business Issue Understanding: In this phase, the background of the project is laid out. The business objectives are outlined, and success criteria are defined. The current state of the business is assessed, which provides as an output the inventory of what resources are available to the business, the existing requirements, assumptions and constraints, the risks to keep in view, and the costs and benefits. This phase also produces a project plan, as well as an initial assessment of tools and techniques.\n",
    "\n",
    "* Data Understanding: This phase involves initial data collection, data description, data exploration, and a verification of data quality. The outputs from this phase are all reports.\n",
    "\n",
    "* Data Preparation: This phase involves selecting data, cleaning data, constructing data, integrating data, and formating data. The output of this phase includes the dataset to use for model development, as well as the dataset description. It also includes the rationale for inclusion/exclusion, data cleaning report, derived attributes, merged data, and reformatted data.\n",
    "\n",
    "* Analysis/Modeling: This phase involves carrying out descriptive statistics and statistical analysis of the data. The output leads to selecting a modeling technique. The choice of the modeling technique produces modeling assumptions. Next comes generating a test design, building a model, and assessing the model.\n",
    "* Validation/Evaluation: In this phase, the performance of the model is evaluated, the model building process is reviewed, and the next steps are determined.\n",
    "* Presentation/Visualization/Deployment: In this phase, a deployment plan is created, along with a plan for monitoring and maintenance. The model is put into production. A final project report is produced, and the project undergoes a review."
   ]
  },
  {
   "cell_type": "markdown",
   "metadata": {},
   "source": [
    "**The primary objective is to understand, from a business perspective, what the client/business wants to accomplish**"
   ]
  },
  {
   "cell_type": "markdown",
   "metadata": {},
   "source": [
    "# Why Machine Learning\n",
    "\n",
    "Machine Learning is not a new field. The algorithms and tools that are applied in Machine Learning have been in existence for a very long time. Machine Learning has become popular because of **data**. Without data, you can't have Machine Learning.\n",
    "\n",
    "Data, or Big Data, has made Machine Learning more feasible because of the volume, variety, and velocity of data that is now possible. This is as a result of all of the data sources that we have, and the new approach to data storage. It also helps that storage is now relatively cheap.\n",
    "\n",
    "A second contributory factor to Machine Learning is the availability of computing resources. This includes both CPU (computer processors) and GPU (graphics cards). Machine Learning involves a large number of computations, and these were time consuming without the right hardware."
   ]
  },
  {
   "cell_type": "code",
   "execution_count": null,
   "metadata": {},
   "outputs": [],
   "source": []
  }
 ],
 "metadata": {
  "kernelspec": {
   "display_name": "Python 3",
   "language": "python",
   "name": "python3"
  },
  "language_info": {
   "codemirror_mode": {
    "name": "ipython",
    "version": 3
   },
   "file_extension": ".py",
   "mimetype": "text/x-python",
   "name": "python",
   "nbconvert_exporter": "python",
   "pygments_lexer": "ipython3",
   "version": "3.6.5"
  }
 },
 "nbformat": 4,
 "nbformat_minor": 2
}
