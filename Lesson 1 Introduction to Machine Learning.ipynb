{
 "cells": [
  {
   "cell_type": "markdown",
   "metadata": {},
   "source": [
    "# Introduction to the Course\n",
    "\n",
    "Welcome to this course on introductory Machine Learning. This course is designed to ease you into the field of Machine Learning over a period of approximately 14 hours. The course is broken down into hourly modules as follows:\n",
    "1. Introduction to Machine Learning: We will explain Machine Learning and Data Science, introduce the Cross-Industry Standard Process for Data Mining, and explain when Machine Learning is a good fit.\n",
    "1. Python Foundations of Data Science: We will explain the process for importing and wrangling data, and summary statistics.\n",
    "1. Data Visualization in Python: We will go over how to visualize data for the purpose of getting some intuition before applying any Machine Learning techniques.\n",
    "1. Supervised Learning with Python: We go over the difference between structured and unstructured data, as well as between labeled and unlabeled data. We introduce classification and regression algorithms, and go over a bit of feature engineering, loss functions, and evaluation metrics.\n",
    "1. Linear Models: We go over Linear Regression and Logistic Regression models.\n",
    "1. Tree-Based Models: We go over tree-based models for both classification and regression, as well as some bagging and boosting techniques and algorithms.\n",
    "1. Neural Networks: Introduction to structured data and generalized linear models.\n",
    "1. Convolutional Neural Networks: Introduction to image classification\n",
    "1. Sequence Models: Introduction to language models\n",
    "1. ML on Google Cloud Platform: Introduction to Machine Learning on the Google Cloud Platform. We introduce APIs you can use without writing yours.\n",
    "1. ML-Kit on Firebase: For mobile application developers, we introduce APIs from Firebase that you can use in your mobile applications\n",
    "1. Putting models into production: We demonstrate different ways of putting your model into production."
   ]
  },
  {
   "cell_type": "markdown",
   "metadata": {},
   "source": [
    "# Introduction to Machine Learning"
   ]
  },
  {
   "cell_type": "markdown",
   "metadata": {},
   "source": [
    "The field of computer programming is traditionally _rules-based_, meaning you write a bunch of if-else statements. This works fine for simple problems, or well-established problems. For example, you could write a program to control the temperature in a room. You set a threshold. Below that threshold, you turn off the cooling system. Above that threshold, you turn it back on.\n",
    "\n",
    "This works fine, until you realize that the threshold is an assumption. What if people need the threshold to be more or less than it is? Simple, they adjust it. And they keep adjusting it.\n",
    "\n",
    "What if we could make a smarter system? What if we could observe how people make adjustments, and learn when to move the threshold to cater to their needs? That is what Machine Learning is about.\n",
    "\n",
    "**Machine Learning** is that field of computing that teaches computers to learn from data. The data is gathered over time, and after cleaning, the data is fed into one or more algorithms, and the final output is called a model.\n",
    "\n",
    "Machine Learning itself is a sub-field of _Data Science_. **Data Science** is an interdisciplinary field about processes and systems that enable the extraction of knowledge or insights from data. Data Science concerns itself with the scientific process when it comes to dealing with data. This involves making an observation, formulating a hypothesis, and making inferences. It is this inference phase that is Machine Learning.\n",
    "\n",
    "The most commonly used methodology for Data Science is Cross-Industry Standard Process for Data Mining, abbreviated to CRISP-DM."
   ]
  },
  {
   "cell_type": "markdown",
   "metadata": {},
   "source": [
    "![CRISP-DM](assets/crisp-dm-framework.jpeg)"
   ]
  },
  {
   "cell_type": "markdown",
   "metadata": {},
   "source": [
    "The image above shows the entire process cycle. While Machine Learning falls into the sector of **Analysis/Modeling**, it can't succeed independent of the other phases. It is important to note that this process is not linear, and there is usually a lot of movement between the different phases. A brief explanation of the phases follows.\n",
    "\n",
    "* Business Issue Understanding: In this phase, the background of the project is laid out. The business objectives are outlined, and success criteria are defined. The current state of the business is assessed, which provides as an output the inventory of what resources are available to the business, the existing requirements, assumptions and constraints, the risks to keep in view, and the costs and benefits. This phase also produces a project plan, as well as an initial assessment of tools and techniques.\n",
    "\n",
    "* Data Understanding: This phase involves initial data collection, data description, data exploration, and a verification of data quality. The outputs from this phase are all reports.\n",
    "\n",
    "* Data Preparation: This phase involves selecting data, cleaning data, constructing data, integrating data, and formating data. The output of this phase includes the dataset to use for model development, as well as the dataset description. It also includes the rationale for inclusion/exclusion, data cleaning report, derived attributes, merged data, and reformatted data.\n",
    "\n",
    "* Analysis/Modeling: This phase involves carrying out descriptive statistics and statistical analysis of the data. The output leads to selecting a modeling technique. The choice of the modeling technique produces modeling assumptions. Next comes generating a test design, building a model, and assessing the model.\n",
    "* Validation/Evaluation: In this phase, the performance of the model is evaluated, the model building process is reviewed, and the next steps are determined.\n",
    "* Presentation/Visualization/Deployment: In this phase, a deployment plan is created, along with a plan for monitoring and maintenance. The model is put into production. A final project report is produced, and the project undergoes a review."
   ]
  },
  {
   "cell_type": "markdown",
   "metadata": {},
   "source": [
    "**The primary objective is to understand, from a business perspective, what the client/business wants to accomplish**"
   ]
  },
  {
   "cell_type": "markdown",
   "metadata": {},
   "source": [
    "# Why Machine Learning\n",
    "\n",
    "Machine Learning is not a new field. The algorithms and tools that are applied in Machine Learning have been in existence for a very long time. Machine Learning has become popular because of **data**. Without data, you can't have Machine Learning.\n",
    "\n",
    "Data, or Big Data, has made Machine Learning more feasible because of the volume, variety, and velocity of data that is now possible. This is as a result of all of the data sources that we have, and the new approach to data storage. It also helps that storage is now relatively cheap.\n",
    "\n",
    "A second contributory factor to Machine Learning is the availability of computing resources. This includes both CPU (computer processors) and GPU (graphics cards). Machine Learning involves a large number of computations, and these were time consuming without the right hardware.\n",
    "\n",
    "**It is important to note that it is not every problem that is a Machine Learning problem.**\n",
    "\n",
    "To find out whether or not what you are dealing with might be suitable for a Machine Learning solution, you can try the following checklist:\n",
    "1. Do you want to automate the task? It goes without saying that not everything needs to be automated. Candidates for automation include tasks that require dealing with data that comes in rapidly. The rules for dealing with the data should be complex, or even hard to define.\n",
    "\n",
    "1. Can you formulate your problem clearly? It is important to be able to state clearly what the input is, and what the output should be.\n",
    "\n",
    "1. Do you have sufficient examples? The more data you have, the better. One million examples, that is a good start for some problems.\n",
    "\n",
    "1. Does your problem have a regular pattern? Machine Learning extracts patterns from your data. Do you have millions of examples? That is just perfect to train a model with.\n",
    "\n",
    "1. Can you find meaningful representations of your data? To a computer, everything is a number. That email you want to process has to be converted to a numeric representation. The same goes for that photo and that song. The process of converting different types of binary data into a numeric representation for Machine Learning is dependent on the algorithm you would like to apply.\n",
    "\n",
    "1. How do you define success? You must have a metric to measure the performance of your system. These metrics are your _evaluation criteria_. You can only put your system into production if it meets or exceeds your criteria."
   ]
  },
  {
   "cell_type": "markdown",
   "metadata": {},
   "source": [
    "# Steps to Machine Learning\n",
    "\n",
    "Machine Learning is carried out through a series of steps. These are:\n",
    "\n",
    "1. Gathering data\n",
    "1. Preparing data\n",
    "1. Choosing a model\n",
    "1. Training the model\n",
    "1. Evaluating the model\n",
    "1. Tuning hyper-parameters\n",
    "1. Deploying the model"
   ]
  },
  {
   "cell_type": "markdown",
   "metadata": {},
   "source": [
    "# Types of Machine Learning\n",
    "\n",
    "There are different types of Machine Learning. These are generally classified into three\n",
    "\n",
    "### Supervised Learning\n",
    "\n",
    "This deals with Machine Learning algorithms that deal with **labeled** training examples. This means that the model will be trying to predict a label, and the training data has both the inputs, as well as the labels. As an example, you might be trying to predict the age of a tree using the name of the species, the height of the tree, the diameter of the trunk, and the number of rings.\n",
    "\n",
    "Supervised Learning is further divided into two. In the preceeding example, because we are trying to predict the age, which could be a number with a decimal place like 2.0 years or 2.25 years, this is called a **Regression** problem.\n",
    "\n",
    "![CRISP-DM](assets/Iris/1.jpg)\n",
    "\n",
    "There is a common introductory problem in ML, in which you are given a bunch of flowers with four measurements, petal lenght, petal width, sepal width, and sepal length. The task is to predict the species based on those measurements. This task is called a **Classification** problem.\n",
    "\n",
    "![CRISP-DM](assets/Iris/3.jpg)"
   ]
  },
  {
   "cell_type": "code",
   "execution_count": null,
   "metadata": {},
   "outputs": [],
   "source": []
  }
 ],
 "metadata": {
  "kernelspec": {
   "display_name": "Python 3",
   "language": "python",
   "name": "python3"
  },
  "language_info": {
   "codemirror_mode": {
    "name": "ipython",
    "version": 3
   },
   "file_extension": ".py",
   "mimetype": "text/x-python",
   "name": "python",
   "nbconvert_exporter": "python",
   "pygments_lexer": "ipython3",
   "version": "3.6.5"
  }
 },
 "nbformat": 4,
 "nbformat_minor": 2
}
